{
 "cells": [
  {
   "cell_type": "markdown",
   "metadata": {},
   "source": [
    "<h3> Importing required libraries </h3>"
   ]
  },
  {
   "cell_type": "code",
   "execution_count": 1,
   "metadata": {},
   "outputs": [],
   "source": [
    "import os\n",
    "import pandas as pd\n",
    "import numpy as np\n",
    "import matplotlib.pyplot as plt\n",
    "%matplotlib inline\n",
    "import seaborn as sns\n",
    "import sklearn\n",
    "from datetime import datetime\n",
    "from scipy.stats.stats import pearsonr"
   ]
  },
  {
   "cell_type": "markdown",
   "metadata": {},
   "source": [
    "<b> Change working directory </b>"
   ]
  },
  {
   "cell_type": "code",
   "execution_count": 2,
   "metadata": {},
   "outputs": [],
   "source": [
    "os.chdir('/Users/Shared/Files From c.localized/Aviroop/USC/Courses/DSO 599')"
   ]
  },
  {
   "cell_type": "markdown",
   "metadata": {},
   "source": [
    "<b> Read file (Data obtained from https://data.medicare.gov/Hospital-Compare/Medicare-Hospital-Spending-by-Claim/nrth-mfg3) </b>"
   ]
  },
  {
   "cell_type": "code",
   "execution_count": 3,
   "metadata": {},
   "outputs": [],
   "source": [
    "HealthData = pd.read_csv('Medicare_Hospital_Spending_by_Claim.csv')"
   ]
  },
  {
   "cell_type": "markdown",
   "metadata": {},
   "source": [
    "<b> View pandas dataframe </b>"
   ]
  },
  {
   "cell_type": "code",
   "execution_count": 4,
   "metadata": {
    "scrolled": true
   },
   "outputs": [
    {
     "data": {
      "text/html": [
       "<div>\n",
       "<style scoped>\n",
       "    .dataframe tbody tr th:only-of-type {\n",
       "        vertical-align: middle;\n",
       "    }\n",
       "\n",
       "    .dataframe tbody tr th {\n",
       "        vertical-align: top;\n",
       "    }\n",
       "\n",
       "    .dataframe thead th {\n",
       "        text-align: right;\n",
       "    }\n",
       "</style>\n",
       "<table border=\"1\" class=\"dataframe\">\n",
       "  <thead>\n",
       "    <tr style=\"text-align: right;\">\n",
       "      <th></th>\n",
       "      <th>Hospital_Name</th>\n",
       "      <th>Provider_ID</th>\n",
       "      <th>State</th>\n",
       "      <th>Period</th>\n",
       "      <th>Claim_Type</th>\n",
       "      <th>Avg_Spending_Per_Episode_Hospital</th>\n",
       "      <th>Avg_Spending_Per_Episode_State</th>\n",
       "      <th>Avg_Spending_Per_Episode_Nation</th>\n",
       "      <th>Percent_of_Spending_Hospital</th>\n",
       "      <th>Percent_of_Spending_State</th>\n",
       "      <th>Percent_of_Spending_Nation</th>\n",
       "      <th>Start_Date</th>\n",
       "      <th>End_Date</th>\n",
       "    </tr>\n",
       "  </thead>\n",
       "  <tbody>\n",
       "    <tr>\n",
       "      <th>0</th>\n",
       "      <td>ST. VINCENT'S EAST</td>\n",
       "      <td>10011</td>\n",
       "      <td>AL</td>\n",
       "      <td>During Index Hospital Admission</td>\n",
       "      <td>Durable Medical Equipment</td>\n",
       "      <td>14</td>\n",
       "      <td>23</td>\n",
       "      <td>20</td>\n",
       "      <td>0.07%</td>\n",
       "      <td>0.12%</td>\n",
       "      <td>0.10%</td>\n",
       "      <td>1012016</td>\n",
       "      <td>12312016</td>\n",
       "    </tr>\n",
       "    <tr>\n",
       "      <th>1</th>\n",
       "      <td>ST. VINCENT'S EAST</td>\n",
       "      <td>10011</td>\n",
       "      <td>AL</td>\n",
       "      <td>1 through 30 days After Discharge from Index H...</td>\n",
       "      <td>Carrier</td>\n",
       "      <td>1086</td>\n",
       "      <td>1017</td>\n",
       "      <td>1059</td>\n",
       "      <td>5.53%</td>\n",
       "      <td>5.32%</td>\n",
       "      <td>5.22%</td>\n",
       "      <td>1012016</td>\n",
       "      <td>12312016</td>\n",
       "    </tr>\n",
       "    <tr>\n",
       "      <th>2</th>\n",
       "      <td>DEKALB REGIONAL MEDICAL CENTER</td>\n",
       "      <td>10012</td>\n",
       "      <td>AL</td>\n",
       "      <td>1 through 30 days After Discharge from Index H...</td>\n",
       "      <td>Home Health Agency</td>\n",
       "      <td>634</td>\n",
       "      <td>849</td>\n",
       "      <td>697</td>\n",
       "      <td>4.19%</td>\n",
       "      <td>4.44%</td>\n",
       "      <td>3.43%</td>\n",
       "      <td>1012016</td>\n",
       "      <td>12312016</td>\n",
       "    </tr>\n",
       "    <tr>\n",
       "      <th>3</th>\n",
       "      <td>DEKALB REGIONAL MEDICAL CENTER</td>\n",
       "      <td>10012</td>\n",
       "      <td>AL</td>\n",
       "      <td>1 through 30 days After Discharge from Index H...</td>\n",
       "      <td>Outpatient</td>\n",
       "      <td>401</td>\n",
       "      <td>573</td>\n",
       "      <td>697</td>\n",
       "      <td>2.66%</td>\n",
       "      <td>3%</td>\n",
       "      <td>3.43%</td>\n",
       "      <td>1012016</td>\n",
       "      <td>12312016</td>\n",
       "    </tr>\n",
       "    <tr>\n",
       "      <th>4</th>\n",
       "      <td>SHELBY BAPTIST MEDICAL CENTER</td>\n",
       "      <td>10016</td>\n",
       "      <td>AL</td>\n",
       "      <td>During Index Hospital Admission</td>\n",
       "      <td>Inpatient</td>\n",
       "      <td>9169</td>\n",
       "      <td>9213</td>\n",
       "      <td>9676</td>\n",
       "      <td>45.85%</td>\n",
       "      <td>48.14%</td>\n",
       "      <td>47.66%</td>\n",
       "      <td>1012016</td>\n",
       "      <td>12312016</td>\n",
       "    </tr>\n",
       "  </tbody>\n",
       "</table>\n",
       "</div>"
      ],
      "text/plain": [
       "                    Hospital_Name  Provider_ID State  \\\n",
       "0              ST. VINCENT'S EAST        10011    AL   \n",
       "1              ST. VINCENT'S EAST        10011    AL   \n",
       "2  DEKALB REGIONAL MEDICAL CENTER        10012    AL   \n",
       "3  DEKALB REGIONAL MEDICAL CENTER        10012    AL   \n",
       "4   SHELBY BAPTIST MEDICAL CENTER        10016    AL   \n",
       "\n",
       "                                              Period  \\\n",
       "0                    During Index Hospital Admission   \n",
       "1  1 through 30 days After Discharge from Index H...   \n",
       "2  1 through 30 days After Discharge from Index H...   \n",
       "3  1 through 30 days After Discharge from Index H...   \n",
       "4                    During Index Hospital Admission   \n",
       "\n",
       "                  Claim_Type  Avg_Spending_Per_Episode_Hospital  \\\n",
       "0  Durable Medical Equipment                                 14   \n",
       "1                    Carrier                               1086   \n",
       "2         Home Health Agency                                634   \n",
       "3                 Outpatient                                401   \n",
       "4                  Inpatient                               9169   \n",
       "\n",
       "   Avg_Spending_Per_Episode_State  Avg_Spending_Per_Episode_Nation  \\\n",
       "0                              23                               20   \n",
       "1                            1017                             1059   \n",
       "2                             849                              697   \n",
       "3                             573                              697   \n",
       "4                            9213                             9676   \n",
       "\n",
       "  Percent_of_Spending_Hospital Percent_of_Spending_State  \\\n",
       "0                        0.07%                     0.12%   \n",
       "1                        5.53%                     5.32%   \n",
       "2                        4.19%                     4.44%   \n",
       "3                        2.66%                        3%   \n",
       "4                       45.85%                    48.14%   \n",
       "\n",
       "  Percent_of_Spending_Nation  Start_Date  End_Date  \n",
       "0                      0.10%     1012016  12312016  \n",
       "1                      5.22%     1012016  12312016  \n",
       "2                      3.43%     1012016  12312016  \n",
       "3                      3.43%     1012016  12312016  \n",
       "4                     47.66%     1012016  12312016  "
      ]
     },
     "execution_count": 4,
     "metadata": {},
     "output_type": "execute_result"
    }
   ],
   "source": [
    "\n",
    "HealthData.head()"
   ]
  },
  {
   "cell_type": "markdown",
   "metadata": {},
   "source": [
    "<b> Pairwise Correlation between variables (Pearson Correlation) </b>"
   ]
  },
  {
   "cell_type": "code",
   "execution_count": 5,
   "metadata": {},
   "outputs": [
    {
     "data": {
      "text/html": [
       "<div>\n",
       "<style scoped>\n",
       "    .dataframe tbody tr th:only-of-type {\n",
       "        vertical-align: middle;\n",
       "    }\n",
       "\n",
       "    .dataframe tbody tr th {\n",
       "        vertical-align: top;\n",
       "    }\n",
       "\n",
       "    .dataframe thead th {\n",
       "        text-align: right;\n",
       "    }\n",
       "</style>\n",
       "<table border=\"1\" class=\"dataframe\">\n",
       "  <thead>\n",
       "    <tr style=\"text-align: right;\">\n",
       "      <th></th>\n",
       "      <th>Provider_ID</th>\n",
       "      <th>Avg_Spending_Per_Episode_Hospital</th>\n",
       "      <th>Avg_Spending_Per_Episode_State</th>\n",
       "      <th>Avg_Spending_Per_Episode_Nation</th>\n",
       "      <th>Start_Date</th>\n",
       "      <th>End_Date</th>\n",
       "    </tr>\n",
       "  </thead>\n",
       "  <tbody>\n",
       "    <tr>\n",
       "      <th>Provider_ID</th>\n",
       "      <td>1.000000e+00</td>\n",
       "      <td>0.002232</td>\n",
       "      <td>0.001893</td>\n",
       "      <td>-1.793512e-17</td>\n",
       "      <td>NaN</td>\n",
       "      <td>NaN</td>\n",
       "    </tr>\n",
       "    <tr>\n",
       "      <th>Avg_Spending_Per_Episode_Hospital</th>\n",
       "      <td>2.232327e-03</td>\n",
       "      <td>1.000000</td>\n",
       "      <td>0.977526</td>\n",
       "      <td>9.753386e-01</td>\n",
       "      <td>NaN</td>\n",
       "      <td>NaN</td>\n",
       "    </tr>\n",
       "    <tr>\n",
       "      <th>Avg_Spending_Per_Episode_State</th>\n",
       "      <td>1.893353e-03</td>\n",
       "      <td>0.977526</td>\n",
       "      <td>1.000000</td>\n",
       "      <td>9.984320e-01</td>\n",
       "      <td>NaN</td>\n",
       "      <td>NaN</td>\n",
       "    </tr>\n",
       "    <tr>\n",
       "      <th>Avg_Spending_Per_Episode_Nation</th>\n",
       "      <td>-1.793512e-17</td>\n",
       "      <td>0.975339</td>\n",
       "      <td>0.998432</td>\n",
       "      <td>1.000000e+00</td>\n",
       "      <td>NaN</td>\n",
       "      <td>NaN</td>\n",
       "    </tr>\n",
       "    <tr>\n",
       "      <th>Start_Date</th>\n",
       "      <td>NaN</td>\n",
       "      <td>NaN</td>\n",
       "      <td>NaN</td>\n",
       "      <td>NaN</td>\n",
       "      <td>NaN</td>\n",
       "      <td>NaN</td>\n",
       "    </tr>\n",
       "    <tr>\n",
       "      <th>End_Date</th>\n",
       "      <td>NaN</td>\n",
       "      <td>NaN</td>\n",
       "      <td>NaN</td>\n",
       "      <td>NaN</td>\n",
       "      <td>NaN</td>\n",
       "      <td>NaN</td>\n",
       "    </tr>\n",
       "  </tbody>\n",
       "</table>\n",
       "</div>"
      ],
      "text/plain": [
       "                                    Provider_ID  \\\n",
       "Provider_ID                        1.000000e+00   \n",
       "Avg_Spending_Per_Episode_Hospital  2.232327e-03   \n",
       "Avg_Spending_Per_Episode_State     1.893353e-03   \n",
       "Avg_Spending_Per_Episode_Nation   -1.793512e-17   \n",
       "Start_Date                                  NaN   \n",
       "End_Date                                    NaN   \n",
       "\n",
       "                                   Avg_Spending_Per_Episode_Hospital  \\\n",
       "Provider_ID                                                 0.002232   \n",
       "Avg_Spending_Per_Episode_Hospital                           1.000000   \n",
       "Avg_Spending_Per_Episode_State                              0.977526   \n",
       "Avg_Spending_Per_Episode_Nation                             0.975339   \n",
       "Start_Date                                                       NaN   \n",
       "End_Date                                                         NaN   \n",
       "\n",
       "                                   Avg_Spending_Per_Episode_State  \\\n",
       "Provider_ID                                              0.001893   \n",
       "Avg_Spending_Per_Episode_Hospital                        0.977526   \n",
       "Avg_Spending_Per_Episode_State                           1.000000   \n",
       "Avg_Spending_Per_Episode_Nation                          0.998432   \n",
       "Start_Date                                                    NaN   \n",
       "End_Date                                                      NaN   \n",
       "\n",
       "                                   Avg_Spending_Per_Episode_Nation  \\\n",
       "Provider_ID                                          -1.793512e-17   \n",
       "Avg_Spending_Per_Episode_Hospital                     9.753386e-01   \n",
       "Avg_Spending_Per_Episode_State                        9.984320e-01   \n",
       "Avg_Spending_Per_Episode_Nation                       1.000000e+00   \n",
       "Start_Date                                                     NaN   \n",
       "End_Date                                                       NaN   \n",
       "\n",
       "                                   Start_Date  End_Date  \n",
       "Provider_ID                               NaN       NaN  \n",
       "Avg_Spending_Per_Episode_Hospital         NaN       NaN  \n",
       "Avg_Spending_Per_Episode_State            NaN       NaN  \n",
       "Avg_Spending_Per_Episode_Nation           NaN       NaN  \n",
       "Start_Date                                NaN       NaN  \n",
       "End_Date                                  NaN       NaN  "
      ]
     },
     "execution_count": 5,
     "metadata": {},
     "output_type": "execute_result"
    }
   ],
   "source": [
    "HealthData.corr(method = 'pearson')"
   ]
  },
  {
   "cell_type": "markdown",
   "metadata": {},
   "source": [
    "<b> Linear correlation between:\n",
    "    1. 'Avg_Spending_Per_Episode_Hospital' and 'Avg_Spending_Per_Episode_State\n",
    "    2. 'Avg_Spending_Per_Episode_Nation' and 'Avg_Spending_Per_Episode_State'\n",
    "    3. 'Avg_Spending_Per_Episode_Hospital' and 'Avg_Spending_Per_Episode_Nation'\n",
    " \n",
    "So, \n",
    "</b>\n",
    "<i> But, what is Avg_Spending_Per_\"Episode\"? Does it indicate the amount of money spent on any medical illness treatment? Let's have a look at the dataset again. </i>\n",
    "    "
   ]
  },
  {
   "cell_type": "code",
   "execution_count": 6,
   "metadata": {},
   "outputs": [
    {
     "data": {
      "text/html": [
       "<div>\n",
       "<style scoped>\n",
       "    .dataframe tbody tr th:only-of-type {\n",
       "        vertical-align: middle;\n",
       "    }\n",
       "\n",
       "    .dataframe tbody tr th {\n",
       "        vertical-align: top;\n",
       "    }\n",
       "\n",
       "    .dataframe thead th {\n",
       "        text-align: right;\n",
       "    }\n",
       "</style>\n",
       "<table border=\"1\" class=\"dataframe\">\n",
       "  <thead>\n",
       "    <tr style=\"text-align: right;\">\n",
       "      <th></th>\n",
       "      <th>Hospital_Name</th>\n",
       "      <th>Provider_ID</th>\n",
       "      <th>State</th>\n",
       "      <th>Period</th>\n",
       "      <th>Claim_Type</th>\n",
       "      <th>Avg_Spending_Per_Episode_Hospital</th>\n",
       "      <th>Avg_Spending_Per_Episode_State</th>\n",
       "      <th>Avg_Spending_Per_Episode_Nation</th>\n",
       "      <th>Percent_of_Spending_Hospital</th>\n",
       "      <th>Percent_of_Spending_State</th>\n",
       "      <th>Percent_of_Spending_Nation</th>\n",
       "      <th>Start_Date</th>\n",
       "      <th>End_Date</th>\n",
       "    </tr>\n",
       "  </thead>\n",
       "  <tbody>\n",
       "    <tr>\n",
       "      <th>0</th>\n",
       "      <td>ST. VINCENT'S EAST</td>\n",
       "      <td>10011</td>\n",
       "      <td>AL</td>\n",
       "      <td>During Index Hospital Admission</td>\n",
       "      <td>Durable Medical Equipment</td>\n",
       "      <td>14</td>\n",
       "      <td>23</td>\n",
       "      <td>20</td>\n",
       "      <td>0.07%</td>\n",
       "      <td>0.12%</td>\n",
       "      <td>0.10%</td>\n",
       "      <td>1012016</td>\n",
       "      <td>12312016</td>\n",
       "    </tr>\n",
       "    <tr>\n",
       "      <th>1</th>\n",
       "      <td>ST. VINCENT'S EAST</td>\n",
       "      <td>10011</td>\n",
       "      <td>AL</td>\n",
       "      <td>1 through 30 days After Discharge from Index H...</td>\n",
       "      <td>Carrier</td>\n",
       "      <td>1086</td>\n",
       "      <td>1017</td>\n",
       "      <td>1059</td>\n",
       "      <td>5.53%</td>\n",
       "      <td>5.32%</td>\n",
       "      <td>5.22%</td>\n",
       "      <td>1012016</td>\n",
       "      <td>12312016</td>\n",
       "    </tr>\n",
       "    <tr>\n",
       "      <th>2</th>\n",
       "      <td>DEKALB REGIONAL MEDICAL CENTER</td>\n",
       "      <td>10012</td>\n",
       "      <td>AL</td>\n",
       "      <td>1 through 30 days After Discharge from Index H...</td>\n",
       "      <td>Home Health Agency</td>\n",
       "      <td>634</td>\n",
       "      <td>849</td>\n",
       "      <td>697</td>\n",
       "      <td>4.19%</td>\n",
       "      <td>4.44%</td>\n",
       "      <td>3.43%</td>\n",
       "      <td>1012016</td>\n",
       "      <td>12312016</td>\n",
       "    </tr>\n",
       "    <tr>\n",
       "      <th>3</th>\n",
       "      <td>DEKALB REGIONAL MEDICAL CENTER</td>\n",
       "      <td>10012</td>\n",
       "      <td>AL</td>\n",
       "      <td>1 through 30 days After Discharge from Index H...</td>\n",
       "      <td>Outpatient</td>\n",
       "      <td>401</td>\n",
       "      <td>573</td>\n",
       "      <td>697</td>\n",
       "      <td>2.66%</td>\n",
       "      <td>3%</td>\n",
       "      <td>3.43%</td>\n",
       "      <td>1012016</td>\n",
       "      <td>12312016</td>\n",
       "    </tr>\n",
       "    <tr>\n",
       "      <th>4</th>\n",
       "      <td>SHELBY BAPTIST MEDICAL CENTER</td>\n",
       "      <td>10016</td>\n",
       "      <td>AL</td>\n",
       "      <td>During Index Hospital Admission</td>\n",
       "      <td>Inpatient</td>\n",
       "      <td>9169</td>\n",
       "      <td>9213</td>\n",
       "      <td>9676</td>\n",
       "      <td>45.85%</td>\n",
       "      <td>48.14%</td>\n",
       "      <td>47.66%</td>\n",
       "      <td>1012016</td>\n",
       "      <td>12312016</td>\n",
       "    </tr>\n",
       "  </tbody>\n",
       "</table>\n",
       "</div>"
      ],
      "text/plain": [
       "                    Hospital_Name  Provider_ID State  \\\n",
       "0              ST. VINCENT'S EAST        10011    AL   \n",
       "1              ST. VINCENT'S EAST        10011    AL   \n",
       "2  DEKALB REGIONAL MEDICAL CENTER        10012    AL   \n",
       "3  DEKALB REGIONAL MEDICAL CENTER        10012    AL   \n",
       "4   SHELBY BAPTIST MEDICAL CENTER        10016    AL   \n",
       "\n",
       "                                              Period  \\\n",
       "0                    During Index Hospital Admission   \n",
       "1  1 through 30 days After Discharge from Index H...   \n",
       "2  1 through 30 days After Discharge from Index H...   \n",
       "3  1 through 30 days After Discharge from Index H...   \n",
       "4                    During Index Hospital Admission   \n",
       "\n",
       "                  Claim_Type  Avg_Spending_Per_Episode_Hospital  \\\n",
       "0  Durable Medical Equipment                                 14   \n",
       "1                    Carrier                               1086   \n",
       "2         Home Health Agency                                634   \n",
       "3                 Outpatient                                401   \n",
       "4                  Inpatient                               9169   \n",
       "\n",
       "   Avg_Spending_Per_Episode_State  Avg_Spending_Per_Episode_Nation  \\\n",
       "0                              23                               20   \n",
       "1                            1017                             1059   \n",
       "2                             849                              697   \n",
       "3                             573                              697   \n",
       "4                            9213                             9676   \n",
       "\n",
       "  Percent_of_Spending_Hospital Percent_of_Spending_State  \\\n",
       "0                        0.07%                     0.12%   \n",
       "1                        5.53%                     5.32%   \n",
       "2                        4.19%                     4.44%   \n",
       "3                        2.66%                        3%   \n",
       "4                       45.85%                    48.14%   \n",
       "\n",
       "  Percent_of_Spending_Nation  Start_Date  End_Date  \n",
       "0                      0.10%     1012016  12312016  \n",
       "1                      5.22%     1012016  12312016  \n",
       "2                      3.43%     1012016  12312016  \n",
       "3                      3.43%     1012016  12312016  \n",
       "4                     47.66%     1012016  12312016  "
      ]
     },
     "execution_count": 6,
     "metadata": {},
     "output_type": "execute_result"
    }
   ],
   "source": [
    "HealthData.head()"
   ]
  },
  {
   "cell_type": "markdown",
   "metadata": {},
   "source": [
    "<b> What does Period indicate? The duration spent in the hospital/after discharge/prior to admission/ Complete illness duration. Let's output the distinct values in the \"Period\" column. </b>"
   ]
  },
  {
   "cell_type": "code",
   "execution_count": 7,
   "metadata": {
    "scrolled": false
   },
   "outputs": [
    {
     "data": {
      "text/plain": [
       "array(['During Index Hospital Admission',\n",
       "       '1 through 30 days After Discharge from Index Hospital Admission',\n",
       "       '1 to 3 days Prior to Index Hospital Admission',\n",
       "       'Complete Episode'], dtype=object)"
      ]
     },
     "execution_count": 7,
     "metadata": {},
     "output_type": "execute_result"
    }
   ],
   "source": [
    "HealthData['Period'].unique()"
   ]
  },
  {
   "cell_type": "markdown",
   "metadata": {},
   "source": [
    "<b>Now, from what the phrases indicates, we can claim that the spending on \"Complete Episodes\" will be the most. Let's have a look. </b>"
   ]
  },
  {
   "cell_type": "markdown",
   "metadata": {},
   "source": [
    "<b> Since all the average spending is correlated to each other, using any one of them should be suffice. </b>"
   ]
  },
  {
   "cell_type": "code",
   "execution_count": 33,
   "metadata": {},
   "outputs": [
    {
     "data": {
      "image/png": "[encoded data removed]",
      "text/plain": [
       "<Figure size 432x288 with 1 Axes>"
      ]
     },
     "metadata": {},
     "output_type": "display_data"
    }
   ],
   "source": [
    "AvgSpendingPeriodGraph = sns.barplot(x = HealthData['Period'], y = HealthData['Avg_Spending_Per_Episode_Hospital'])\n",
    "for element in AvgSpendingPeriodGraph.get_xticklabels():\n",
    "    element.set_rotation(90)"
   ]
  },
  {
   "cell_type": "markdown",
   "metadata": {},
   "source": [
    "<b> And we notice that highest Healthcare spending is in a complete Episode, while \"1 to 3 days prior to index Hospital Admission\", the average healthcare spending is the least.  \n",
    " <br>   Let's have a look at which STATE spends the most. </br>\n",
    "</b>\n"
   ]
  },
  {
   "cell_type": "code",
   "execution_count": 32,
   "metadata": {},
   "outputs": [
    {
     "data": {
      "image/png": "[encoded data removed]",
      "text/plain": [
       "<Figure size 432x288 with 1 Axes>"
      ]
     },
     "metadata": {},
     "output_type": "display_data"
    }
   ],
   "source": [
    "AvgSpendingPeriodGraph = sns.barplot(x = HealthData['Period'], y = HealthData['Avg_Spending_Per_Episode_Hospital'], hue = HealthData['State'])\n",
    "for element in AvgSpendingPeriodGraph.get_xticklabels():\n",
    "    element.set_rotation(90)\n",
    "    "
   ]
  },
  {
   "cell_type": "markdown",
   "metadata": {},
   "source": [
    "<b> This graph isn't quite intuitive Let's have a look at only healthcare spending grouped by states. </b>"
   ]
  },
  {
   "cell_type": "code",
   "execution_count": 35,
   "metadata": {},
   "outputs": [
    {
     "data": {
      "image/png": "[encoded data removed]",
      "text/plain": [
       "<Figure size 432x288 with 1 Axes>"
      ]
     },
     "metadata": {},
     "output_type": "display_data"
    }
   ],
   "source": [
    "AvgSpendingvsStateGraph = sns.barplot(x = HealthData['State'], y = HealthData['Avg_Spending_Per_Episode_Hospital'])\n",
    "for element in AvgSpendingvsStateGraph.get_xticklabels():\n",
    "    element.set_rotation(90)"
   ]
  },
  {
   "cell_type": "markdown",
   "metadata": {},
   "source": [
    "<b> Quite difficult to interpret the graph. Let's calculate sum of healthcare spending group by state, and find out which state is spending the most. </b>"
   ]
  },
  {
   "cell_type": "code",
   "execution_count": 61,
   "metadata": {},
   "outputs": [],
   "source": [
    "SpendingPerState = HealthData.groupby('State')['Avg_Spending_Per_Episode_Hospital'].sum().sort_values(ascending = False)"
   ]
  },
  {
   "cell_type": "code",
   "execution_count": 62,
   "metadata": {},
   "outputs": [
    {
     "data": {
      "text/plain": [
       "State\n",
       "TX    11735769\n",
       "CA    11572030\n",
       "FL     6489946\n",
       "PA     5548351\n",
       "NY     5329534\n",
       "Name: Avg_Spending_Per_Episode_Hospital, dtype: int64"
      ]
     },
     "execution_count": 62,
     "metadata": {},
     "output_type": "execute_result"
    }
   ],
   "source": [
    "SpendingPerState.head()"
   ]
  },
  {
   "cell_type": "markdown",
   "metadata": {},
   "source": [
    "<b> Top 5 states spending the most on Healthcare: TX, CA, FL, PA, NY. Let's take only these states in our visualization. </b>"
   ]
  },
  {
   "cell_type": "code",
   "execution_count": 74,
   "metadata": {},
   "outputs": [],
   "source": [
    "SeriesIndices = SpendingPerState.head().index[:]\n",
    "TopStatesSpendingList = SeriesIndices.tolist()"
   ]
  },
  {
   "cell_type": "code",
   "execution_count": 79,
   "metadata": {},
   "outputs": [
    {
     "data": {
      "image/png": "[encoded data removed]",
      "text/plain": [
       "<Figure size 432x288 with 1 Axes>"
      ]
     },
     "metadata": {},
     "output_type": "display_data"
    }
   ],
   "source": [
    "AvgSpendingvsStateGraph = sns.barplot(x = HealthData['State'], y = HealthData['Avg_Spending_Per_Episode_Hospital'], order = TopStatesSpendingList)\n",
    "for element in AvgSpendingvsStateGraph.get_xticklabels():\n",
    "    element.set_rotation(90)"
   ]
  },
  {
   "cell_type": "markdown",
   "metadata": {},
   "source": [
    "<b> Highest Medicare hospital spending states: Texas, California, Florida, Pensylvania, New York.</b>"
   ]
  },
  {
   "cell_type": "markdown",
   "metadata": {},
   "source": []
  }
 ],
 "metadata": {
  "kernelspec": {
   "display_name": "Python 3",
   "language": "python",
   "name": "python3"
  },
  "language_info": {
   "codemirror_mode": {
    "name": "ipython",
    "version": 3
   },
   "file_extension": ".py",
   "mimetype": "text/x-python",
   "name": "python",
   "nbconvert_exporter": "python",
   "pygments_lexer": "ipython3",
   "version": "3.6.5"
  }
 },
 "nbformat": 4,
 "nbformat_minor": 2
}
